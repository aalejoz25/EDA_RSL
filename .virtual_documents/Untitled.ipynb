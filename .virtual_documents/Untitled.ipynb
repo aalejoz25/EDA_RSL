import pandas as pd # data processing, CSV file I/O (e.g. pd.read_csv)


df = pd.read_csv("referencias_unificado.csv",delimiter='|')


df.head(10)



